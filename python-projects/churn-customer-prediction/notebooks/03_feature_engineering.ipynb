{
 "cells": [
  {
   "cell_type": "markdown",
   "id": "400ea6f9",
   "metadata": {},
   "source": [
    "# Feature Engineering\n",
    "\n",
    "This notebook focuses on creating and modifying material in the dataset, aiming at the cretaion of the future model.\n"
   ]
  },
  {
   "cell_type": "markdown",
   "id": "e4398f02",
   "metadata": {},
   "source": [
    "We import libraries and review basic information."
   ]
  },
  {
   "cell_type": "code",
   "execution_count": 1,
   "id": "afb1253b",
   "metadata": {},
   "outputs": [],
   "source": [
    "import pandas as pd\n",
    "import numpy as np"
   ]
  },
  {
   "cell_type": "code",
   "execution_count": 3,
   "id": "b009bdc4",
   "metadata": {},
   "outputs": [
    {
     "name": "stdout",
     "output_type": "stream",
     "text": [
      "<class 'pandas.core.frame.DataFrame'>\n",
      "RangeIndex: 7032 entries, 0 to 7031\n",
      "Data columns (total 22 columns):\n",
      " #   Column            Non-Null Count  Dtype  \n",
      "---  ------            --------------  -----  \n",
      " 0   customerID        7032 non-null   object \n",
      " 1   gender            7032 non-null   object \n",
      " 2   SeniorCitizen     7032 non-null   int64  \n",
      " 3   Partner           7032 non-null   int64  \n",
      " 4   Dependents        7032 non-null   int64  \n",
      " 5   tenure            7032 non-null   int64  \n",
      " 6   PhoneService      7032 non-null   int64  \n",
      " 7   MultipleLines     7032 non-null   int64  \n",
      " 8   InternetService   7032 non-null   object \n",
      " 9   OnlineSecurity    7032 non-null   int64  \n",
      " 10  OnlineBackup      7032 non-null   int64  \n",
      " 11  DeviceProtection  7032 non-null   int64  \n",
      " 12  TechSupport       7032 non-null   int64  \n",
      " 13  StreamingTV       7032 non-null   int64  \n",
      " 14  StreamingMovies   7032 non-null   int64  \n",
      " 15  Contract          7032 non-null   object \n",
      " 16  PaperlessBilling  7032 non-null   int64  \n",
      " 17  PaymentMethod     7032 non-null   object \n",
      " 18  MonthlyCharges    7032 non-null   float64\n",
      " 19  TotalCharges      7032 non-null   float64\n",
      " 20  Churn             7032 non-null   int64  \n",
      " 21  tenure_group      7032 non-null   object \n",
      "dtypes: float64(2), int64(14), object(6)\n",
      "memory usage: 1.2+ MB\n"
     ]
    }
   ],
   "source": [
    "df = pd.read_csv('../data/processed/cleaned_churn_data.csv', header=0)\n",
    "df.head()\n",
    "df.info()\n"
   ]
  },
  {
   "cell_type": "markdown",
   "id": "dc6fe6af",
   "metadata": {},
   "source": [
    "After reviewing basic information and features, we start the following smart features:\n",
    "\n",
    "- **Ternure-based**.\n",
    "- **Total service count**.\n",
    "- **Charges ratio**.\n",
    "- **Encoding categorical values**."
   ]
  },
  {
   "cell_type": "markdown",
   "id": "36fab53b",
   "metadata": {},
   "source": [
    "tenure_years is the number of years a customer has been with the company, calculated by dividing the 'tenure' \n",
    "in months by 12 and rounding to two decimal places. This feature helps in understanding customer loyalty and retention\n",
    "patterns over time.\n",
    "\n",
    "long_term_customer is a binary feature indicating whether a customer has been with the company for 2 years or more.\n",
    "This feature is useful for identifying loyal customers who may have different churn behaviors compared to newer customers."
   ]
  },
  {
   "cell_type": "code",
   "execution_count": 7,
   "id": "e732c0ca",
   "metadata": {},
   "outputs": [],
   "source": [
    "# Ternure-based features.\n",
    "df['tenure_years'] = (df['tenure'] / 12).round(2)\n",
    "\n",
    "\n",
    "df['long_term_customer'] = (df['tenure_years'] >= 2).astype(int)"
   ]
  },
  {
   "cell_type": "markdown",
   "id": "4ea3bb3c",
   "metadata": {},
   "source": [
    "total_service_count feature highlights the total number of services a customer has subscribed to.\n",
    "This feature can help in understanding customer engagement and the likelihood of churn based on the number of services."
   ]
  },
  {
   "cell_type": "code",
   "execution_count": 9,
   "id": "f7f6dc37",
   "metadata": {},
   "outputs": [],
   "source": [
    "services = ['PhoneService','MultipleLines', 'OnlineSecurity','OnlineBackup','DeviceProtection',\n",
    "              'TechSupport','StreamingTV','StreamingMovies']\n",
    "\n",
    "df['total_service_count'] = df[services].sum(axis=1)\n"
   ]
  },
  {
   "cell_type": "markdown",
   "id": "cf616780",
   "metadata": {},
   "source": [
    "charges_ratio signals the relationship between monthly charges and total charges, providing \n",
    "insights into customer spending patterns.\n",
    "A higher ratio may indicate customers who are paying more monthly relative to their total charges, \n",
    "which could suggest different churn behaviors.\n",
    "\n",
    "average_monthly_charges is the average monthly amount a customer has paid over their tenure,\n",
    "calculated by dividing the total charges by the tenure in months.\n",
    "\n",
    "The difference between average_monthly_charges and charges_ratio is that the former provides a\n",
    "long-term average of monthly payments over the entire tenure, while the latter is a ratio that compares\n",
    "the monthly charges to the total charges, giving a snapshot of spending behavior at a specific point in time."
   ]
  },
  {
   "cell_type": "code",
   "execution_count": 11,
   "id": "7bbfde44",
   "metadata": {},
   "outputs": [],
   "source": [
    "df['charges_ratio'] = (df['MonthlyCharges']/df['TotalCharges']).round(2)\n",
    "\n",
    "df['average_monthly_charges'] = (df['TotalCharges'] / df['tenure']).round(2)\n",
    "df['average_monthly_charges'] = df['average_monthly_charges'].replace([np.inf, -np.inf], np.nan).fillna(0)\n"
   ]
  },
  {
   "cell_type": "markdown",
   "id": "f97897e2",
   "metadata": {},
   "source": [
    "For categorical variables, we can use one-hot encoding to convert them into numerical features.\n",
    "This allows us to represent categorical data in a format that can be provided to machine learning algorithms.\n",
    "\n",
    "pd_get_dummies is a function in pandas that converts categorical variable(s) into dummy/indicator variables.\n",
    "Indicator variables are binary (0 or 1) variables that represent the presence or absence of a category."
   ]
  },
  {
   "cell_type": "code",
   "execution_count": 12,
   "id": "8105cf1f",
   "metadata": {},
   "outputs": [],
   "source": [
    "df = pd.get_dummies(df, columns=['Contract', 'PaymentMethod', 'InternetService'], drop_first=True)\n",
    "df['gender'] = df['gender'].map({'Male': 1, 'Female': 0})\n"
   ]
  },
  {
   "cell_type": "markdown",
   "id": "213ac5b4",
   "metadata": {},
   "source": [
    "Finally, we saved the engineered dataset."
   ]
  },
  {
   "cell_type": "code",
   "execution_count": 13,
   "id": "b897bf19",
   "metadata": {},
   "outputs": [],
   "source": [
    "df.to_csv('../data/processed/engineered_churn_data.csv', index=False)"
   ]
  }
 ],
 "metadata": {
  "kernelspec": {
   "display_name": "venv",
   "language": "python",
   "name": "python3"
  },
  "language_info": {
   "codemirror_mode": {
    "name": "ipython",
    "version": 3
   },
   "file_extension": ".py",
   "mimetype": "text/x-python",
   "name": "python",
   "nbconvert_exporter": "python",
   "pygments_lexer": "ipython3",
   "version": "3.13.4"
  }
 },
 "nbformat": 4,
 "nbformat_minor": 5
}
